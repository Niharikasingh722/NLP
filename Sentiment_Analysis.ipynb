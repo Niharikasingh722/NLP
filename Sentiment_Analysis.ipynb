{
  "nbformat": 4,
  "nbformat_minor": 0,
  "metadata": {
    "colab": {
      "provenance": [],
      "authorship_tag": "ABX9TyPN4XlQ9k1Uc9f0BeAVEwPl",
      "include_colab_link": true
    },
    "kernelspec": {
      "name": "python3",
      "display_name": "Python 3"
    },
    "language_info": {
      "name": "python"
    }
  },
  "cells": [
    {
      "cell_type": "markdown",
      "metadata": {
        "id": "view-in-github",
        "colab_type": "text"
      },
      "source": [
        "<a href=\"https://colab.research.google.com/github/Niharikasingh722/NLP/blob/main/Sentiment_Analysis.ipynb\" target=\"_parent\"><img src=\"https://colab.research.google.com/assets/colab-badge.svg\" alt=\"Open In Colab\"/></a>"
      ]
    },
    {
      "cell_type": "code",
      "source": [
        "from bs4 import BeautifulSoup"
      ],
      "metadata": {
        "id": "7dRmEZ3FhfY6"
      },
      "execution_count": null,
      "outputs": []
    },
    {
      "cell_type": "code",
      "execution_count": null,
      "metadata": {
        "id": "KSPDnZv2yJ6C"
      },
      "outputs": [],
      "source": [
        "import pandas as pd"
      ]
    },
    {
      "cell_type": "code",
      "source": [
        "from sklearn.metrics import accuracy_score,classification_report,confusion_matrix"
      ],
      "metadata": {
        "id": "Uat3bYhKa838"
      },
      "execution_count": null,
      "outputs": []
    },
    {
      "cell_type": "code",
      "source": [
        "import nltk\n",
        "nltk.download('wordnet')"
      ],
      "metadata": {
        "colab": {
          "base_uri": "https://localhost:8080/"
        },
        "id": "rFaRajZKRIfx",
        "outputId": "58a27894-9b6e-4020-c24a-9e38f53b5dd1"
      },
      "execution_count": null,
      "outputs": [
        {
          "output_type": "stream",
          "name": "stderr",
          "text": [
            "[nltk_data] Downloading package wordnet to /root/nltk_data...\n"
          ]
        },
        {
          "output_type": "execute_result",
          "data": {
            "text/plain": [
              "True"
            ]
          },
          "metadata": {},
          "execution_count": 27
        }
      ]
    },
    {
      "cell_type": "code",
      "source": [
        "train=pd.read_csv(\"/content/train.csv\")\n",
        "test=pd.read_csv(\"/content/test.csv\")"
      ],
      "metadata": {
        "id": "TYoX1rSMzuej"
      },
      "execution_count": null,
      "outputs": []
    },
    {
      "cell_type": "code",
      "source": [
        "train.head()"
      ],
      "metadata": {
        "colab": {
          "base_uri": "https://localhost:8080/",
          "height": 206
        },
        "id": "XJygwdi2z8O9",
        "outputId": "6c4e2f05-aa2a-4113-8065-79f665df59b2"
      },
      "execution_count": null,
      "outputs": [
        {
          "output_type": "execute_result",
          "data": {
            "text/plain": [
              "                                                text  sentiment\n",
              "0  \"Her Cardboard Lover\" is Norma Shearer's last ...          0\n",
              "1  I cannot believe that this movie was ever crea...          0\n",
              "2  After \"Beau travail\", everybody was waiting fo...          1\n",
              "3  Daniel Day-Lewis is the most versatile actor a...          1\n",
              "4  I had started to lose my faith in films of rec...          1"
            ],
            "text/html": [
              "\n",
              "  <div id=\"df-ebd0d7e8-efe4-4b5b-8f41-6c64dc9413fc\" class=\"colab-df-container\">\n",
              "    <div>\n",
              "<style scoped>\n",
              "    .dataframe tbody tr th:only-of-type {\n",
              "        vertical-align: middle;\n",
              "    }\n",
              "\n",
              "    .dataframe tbody tr th {\n",
              "        vertical-align: top;\n",
              "    }\n",
              "\n",
              "    .dataframe thead th {\n",
              "        text-align: right;\n",
              "    }\n",
              "</style>\n",
              "<table border=\"1\" class=\"dataframe\">\n",
              "  <thead>\n",
              "    <tr style=\"text-align: right;\">\n",
              "      <th></th>\n",
              "      <th>text</th>\n",
              "      <th>sentiment</th>\n",
              "    </tr>\n",
              "  </thead>\n",
              "  <tbody>\n",
              "    <tr>\n",
              "      <th>0</th>\n",
              "      <td>\"Her Cardboard Lover\" is Norma Shearer's last ...</td>\n",
              "      <td>0</td>\n",
              "    </tr>\n",
              "    <tr>\n",
              "      <th>1</th>\n",
              "      <td>I cannot believe that this movie was ever crea...</td>\n",
              "      <td>0</td>\n",
              "    </tr>\n",
              "    <tr>\n",
              "      <th>2</th>\n",
              "      <td>After \"Beau travail\", everybody was waiting fo...</td>\n",
              "      <td>1</td>\n",
              "    </tr>\n",
              "    <tr>\n",
              "      <th>3</th>\n",
              "      <td>Daniel Day-Lewis is the most versatile actor a...</td>\n",
              "      <td>1</td>\n",
              "    </tr>\n",
              "    <tr>\n",
              "      <th>4</th>\n",
              "      <td>I had started to lose my faith in films of rec...</td>\n",
              "      <td>1</td>\n",
              "    </tr>\n",
              "  </tbody>\n",
              "</table>\n",
              "</div>\n",
              "    <div class=\"colab-df-buttons\">\n",
              "\n",
              "  <div class=\"colab-df-container\">\n",
              "    <button class=\"colab-df-convert\" onclick=\"convertToInteractive('df-ebd0d7e8-efe4-4b5b-8f41-6c64dc9413fc')\"\n",
              "            title=\"Convert this dataframe to an interactive table.\"\n",
              "            style=\"display:none;\">\n",
              "\n",
              "  <svg xmlns=\"http://www.w3.org/2000/svg\" height=\"24px\" viewBox=\"0 -960 960 960\">\n",
              "    <path d=\"M120-120v-720h720v720H120Zm60-500h600v-160H180v160Zm220 220h160v-160H400v160Zm0 220h160v-160H400v160ZM180-400h160v-160H180v160Zm440 0h160v-160H620v160ZM180-180h160v-160H180v160Zm440 0h160v-160H620v160Z\"/>\n",
              "  </svg>\n",
              "    </button>\n",
              "\n",
              "  <style>\n",
              "    .colab-df-container {\n",
              "      display:flex;\n",
              "      gap: 12px;\n",
              "    }\n",
              "\n",
              "    .colab-df-convert {\n",
              "      background-color: #E8F0FE;\n",
              "      border: none;\n",
              "      border-radius: 50%;\n",
              "      cursor: pointer;\n",
              "      display: none;\n",
              "      fill: #1967D2;\n",
              "      height: 32px;\n",
              "      padding: 0 0 0 0;\n",
              "      width: 32px;\n",
              "    }\n",
              "\n",
              "    .colab-df-convert:hover {\n",
              "      background-color: #E2EBFA;\n",
              "      box-shadow: 0px 1px 2px rgba(60, 64, 67, 0.3), 0px 1px 3px 1px rgba(60, 64, 67, 0.15);\n",
              "      fill: #174EA6;\n",
              "    }\n",
              "\n",
              "    .colab-df-buttons div {\n",
              "      margin-bottom: 4px;\n",
              "    }\n",
              "\n",
              "    [theme=dark] .colab-df-convert {\n",
              "      background-color: #3B4455;\n",
              "      fill: #D2E3FC;\n",
              "    }\n",
              "\n",
              "    [theme=dark] .colab-df-convert:hover {\n",
              "      background-color: #434B5C;\n",
              "      box-shadow: 0px 1px 3px 1px rgba(0, 0, 0, 0.15);\n",
              "      filter: drop-shadow(0px 1px 2px rgba(0, 0, 0, 0.3));\n",
              "      fill: #FFFFFF;\n",
              "    }\n",
              "  </style>\n",
              "\n",
              "    <script>\n",
              "      const buttonEl =\n",
              "        document.querySelector('#df-ebd0d7e8-efe4-4b5b-8f41-6c64dc9413fc button.colab-df-convert');\n",
              "      buttonEl.style.display =\n",
              "        google.colab.kernel.accessAllowed ? 'block' : 'none';\n",
              "\n",
              "      async function convertToInteractive(key) {\n",
              "        const element = document.querySelector('#df-ebd0d7e8-efe4-4b5b-8f41-6c64dc9413fc');\n",
              "        const dataTable =\n",
              "          await google.colab.kernel.invokeFunction('convertToInteractive',\n",
              "                                                    [key], {});\n",
              "        if (!dataTable) return;\n",
              "\n",
              "        const docLinkHtml = 'Like what you see? Visit the ' +\n",
              "          '<a target=\"_blank\" href=https://colab.research.google.com/notebooks/data_table.ipynb>data table notebook</a>'\n",
              "          + ' to learn more about interactive tables.';\n",
              "        element.innerHTML = '';\n",
              "        dataTable['output_type'] = 'display_data';\n",
              "        await google.colab.output.renderOutput(dataTable, element);\n",
              "        const docLink = document.createElement('div');\n",
              "        docLink.innerHTML = docLinkHtml;\n",
              "        element.appendChild(docLink);\n",
              "      }\n",
              "    </script>\n",
              "  </div>\n",
              "\n",
              "\n",
              "<div id=\"df-5e37001c-0970-45e9-8318-075dec396994\">\n",
              "  <button class=\"colab-df-quickchart\" onclick=\"quickchart('df-5e37001c-0970-45e9-8318-075dec396994')\"\n",
              "            title=\"Suggest charts\"\n",
              "            style=\"display:none;\">\n",
              "\n",
              "<svg xmlns=\"http://www.w3.org/2000/svg\" height=\"24px\"viewBox=\"0 0 24 24\"\n",
              "     width=\"24px\">\n",
              "    <g>\n",
              "        <path d=\"M19 3H5c-1.1 0-2 .9-2 2v14c0 1.1.9 2 2 2h14c1.1 0 2-.9 2-2V5c0-1.1-.9-2-2-2zM9 17H7v-7h2v7zm4 0h-2V7h2v10zm4 0h-2v-4h2v4z\"/>\n",
              "    </g>\n",
              "</svg>\n",
              "  </button>\n",
              "\n",
              "<style>\n",
              "  .colab-df-quickchart {\n",
              "      --bg-color: #E8F0FE;\n",
              "      --fill-color: #1967D2;\n",
              "      --hover-bg-color: #E2EBFA;\n",
              "      --hover-fill-color: #174EA6;\n",
              "      --disabled-fill-color: #AAA;\n",
              "      --disabled-bg-color: #DDD;\n",
              "  }\n",
              "\n",
              "  [theme=dark] .colab-df-quickchart {\n",
              "      --bg-color: #3B4455;\n",
              "      --fill-color: #D2E3FC;\n",
              "      --hover-bg-color: #434B5C;\n",
              "      --hover-fill-color: #FFFFFF;\n",
              "      --disabled-bg-color: #3B4455;\n",
              "      --disabled-fill-color: #666;\n",
              "  }\n",
              "\n",
              "  .colab-df-quickchart {\n",
              "    background-color: var(--bg-color);\n",
              "    border: none;\n",
              "    border-radius: 50%;\n",
              "    cursor: pointer;\n",
              "    display: none;\n",
              "    fill: var(--fill-color);\n",
              "    height: 32px;\n",
              "    padding: 0;\n",
              "    width: 32px;\n",
              "  }\n",
              "\n",
              "  .colab-df-quickchart:hover {\n",
              "    background-color: var(--hover-bg-color);\n",
              "    box-shadow: 0 1px 2px rgba(60, 64, 67, 0.3), 0 1px 3px 1px rgba(60, 64, 67, 0.15);\n",
              "    fill: var(--button-hover-fill-color);\n",
              "  }\n",
              "\n",
              "  .colab-df-quickchart-complete:disabled,\n",
              "  .colab-df-quickchart-complete:disabled:hover {\n",
              "    background-color: var(--disabled-bg-color);\n",
              "    fill: var(--disabled-fill-color);\n",
              "    box-shadow: none;\n",
              "  }\n",
              "\n",
              "  .colab-df-spinner {\n",
              "    border: 2px solid var(--fill-color);\n",
              "    border-color: transparent;\n",
              "    border-bottom-color: var(--fill-color);\n",
              "    animation:\n",
              "      spin 1s steps(1) infinite;\n",
              "  }\n",
              "\n",
              "  @keyframes spin {\n",
              "    0% {\n",
              "      border-color: transparent;\n",
              "      border-bottom-color: var(--fill-color);\n",
              "      border-left-color: var(--fill-color);\n",
              "    }\n",
              "    20% {\n",
              "      border-color: transparent;\n",
              "      border-left-color: var(--fill-color);\n",
              "      border-top-color: var(--fill-color);\n",
              "    }\n",
              "    30% {\n",
              "      border-color: transparent;\n",
              "      border-left-color: var(--fill-color);\n",
              "      border-top-color: var(--fill-color);\n",
              "      border-right-color: var(--fill-color);\n",
              "    }\n",
              "    40% {\n",
              "      border-color: transparent;\n",
              "      border-right-color: var(--fill-color);\n",
              "      border-top-color: var(--fill-color);\n",
              "    }\n",
              "    60% {\n",
              "      border-color: transparent;\n",
              "      border-right-color: var(--fill-color);\n",
              "    }\n",
              "    80% {\n",
              "      border-color: transparent;\n",
              "      border-right-color: var(--fill-color);\n",
              "      border-bottom-color: var(--fill-color);\n",
              "    }\n",
              "    90% {\n",
              "      border-color: transparent;\n",
              "      border-bottom-color: var(--fill-color);\n",
              "    }\n",
              "  }\n",
              "</style>\n",
              "\n",
              "  <script>\n",
              "    async function quickchart(key) {\n",
              "      const quickchartButtonEl =\n",
              "        document.querySelector('#' + key + ' button');\n",
              "      quickchartButtonEl.disabled = true;  // To prevent multiple clicks.\n",
              "      quickchartButtonEl.classList.add('colab-df-spinner');\n",
              "      try {\n",
              "        const charts = await google.colab.kernel.invokeFunction(\n",
              "            'suggestCharts', [key], {});\n",
              "      } catch (error) {\n",
              "        console.error('Error during call to suggestCharts:', error);\n",
              "      }\n",
              "      quickchartButtonEl.classList.remove('colab-df-spinner');\n",
              "      quickchartButtonEl.classList.add('colab-df-quickchart-complete');\n",
              "    }\n",
              "    (() => {\n",
              "      let quickchartButtonEl =\n",
              "        document.querySelector('#df-5e37001c-0970-45e9-8318-075dec396994 button');\n",
              "      quickchartButtonEl.style.display =\n",
              "        google.colab.kernel.accessAllowed ? 'block' : 'none';\n",
              "    })();\n",
              "  </script>\n",
              "</div>\n",
              "\n",
              "    </div>\n",
              "  </div>\n"
            ],
            "application/vnd.google.colaboratory.intrinsic+json": {
              "type": "dataframe",
              "variable_name": "train",
              "summary": "{\n  \"name\": \"train\",\n  \"rows\": 25000,\n  \"fields\": [\n    {\n      \"column\": \"text\",\n      \"properties\": {\n        \"dtype\": \"string\",\n        \"num_unique_values\": 24904,\n        \"samples\": [\n          \"Director Otto Preminger reunites with his Laura stars Dana Andrews and Gene Tierney in this rough and ready to rumble film noir: Where The Sidewalk Ends. This film is complete with a well-written crime story with interesting characters, unexpected turns, and clever dialogue and an eye-pleasing look with great camera movements and dark and gritty film noir lighting. Dana Andrews stars as Detective Mark Dixon, part mobster and part cop, who has a reputation of being too physically tough with criminals. After one case sees Dixon in search of suspects and answers, he gets far more involved than he wanted. <br /><br />Dana Andrews is terrific in his role - tough and edgy, Andrews' Dixon is ready to knock any and all off their heels if they get on his bad side. He's the perfect film noir anti-hero - he's not very nice all the time, but we still root for him. Gene Tierney does a solid job in her role, as much as it is, being a sweet shoulder for Dixon. There might not be too much to Tierney's role, but she certainly goes above and beyond what others could do with the role, knocking every member of the audience out with her kind smile, gentle manner, and twinkle in her eye. The supporting cast isn't too bad either - Karl Malden being the most memorable, stepping in and giving a good supporting performance as Lieutenant Thomas. Where The Sidewalk Ends is no Laura, but it is a great film noir filled with great characters, story, and picture.\",\n          \"I can't say that this film deserves anywhere near the amount of vitriol being heaped on it by some reviewers. Yes, it's bogged down by an overly-padded running time, hamfisted editing, and an overreliance on cheeseball special effects. And it lacks much of the energy a comedy needs to get your average audience member to sit through it without checking his or her watch. <br /><br />On the other hand, it's also got some laugh-out-loud funny lines, a talented and earnest cast, and the classic underdog premise. Macy, Stiller, and Azaria are brilliant as the \\\"core\\\" team, and Garofalo and Studi do superb work adding conflict and variety to the team. I can't say Reubens or Mitchell added much to the film overall, though each had a few chances to shine. <br /><br />The plot, as I said above, is your classic \\\"underdog-makes-good\\\" stuff. No surprises there, since you know they're going to triumph. What makes it worthwhile is not the absurd, gaudy heroes and villains, but the dialogue and interplay between the characters. Underneath it all, these people are children at heart, who just want to do right. The best scenes in the film give this film its emotional grounding. Look at Azaria's relationship with his long-suffering mother; Macy's endearing innocence in his unwillingness to accept Cap. Amazing's secret identity; Stiller's rage (not unlike that one weird, spazzy kid you once knew who'd always go into quivering, impotent rages on the playground); Garofalo's desire to avenge her father. This childlike belief that a sense of justice and goodness will always make the world a better place, is the true appeal of super-hero comics; and underneath its parodic exterior, \\\"Mystery Men\\\" shows us why these hackneyed comic-book tropes matter to so many.<br /><br />It never really gels into a satisfying whole, due to the huge number of half-baked subplots (romance, family life, conflicts within the team, etc.), but the main plot is such loopy fun that it makes up for that. The fact that it's supposed to be good, nonsensical fun seems to be lost on some of the reviewers here, so I'll issue a caveat: if you're the type of viewer who finds his enjoyment of an Itchy and Scratchy cartoon ruined by the unexplained and illogical (\\\"Am I to believe this is some sort of.. *snort*... _magic_ xylophone?\\\"), then you are far too literal-minded and humorless for this film. Go rent a Sandler film instead.<br /><br />(7/10)\",\n          \"This cool Marvel superhero game pays proper tribute by staying true to the comics. Of all the Marvel superhero games that have been so lame with weak graphics and gameplay, Spiderman improves in both departments. It also features the voice of Stan Lee, the creator of Spiderman comics.<br /><br />As you'd expect Spiderman does whatever a spider can. He does more than spin webs. In fact, he uses them as weapons and shields. When he's not using web in combat, he punches and kicks as well. Spidey has his hands full as he battles Venom, Rhino, Mysterio, Scorpion, and Dr. Octopus to name a few. Look for Captain America in a cameo.<br /><br />Most of the levels are challenging, but some of them require patience to beat. The only complaint about this game is that it's so short and can be completed in less than three hours. If you're a real Marvel superhero fan, this game is for you but don't expect long gameplay. Better luck in \\\"Spiderman 2.\\\" My evaluation: 9 out of 10.\"\n        ],\n        \"semantic_type\": \"\",\n        \"description\": \"\"\n      }\n    },\n    {\n      \"column\": \"sentiment\",\n      \"properties\": {\n        \"dtype\": \"number\",\n        \"std\": 0,\n        \"min\": 0,\n        \"max\": 1,\n        \"num_unique_values\": 2,\n        \"samples\": [\n          1,\n          0\n        ],\n        \"semantic_type\": \"\",\n        \"description\": \"\"\n      }\n    }\n  ]\n}"
            }
          },
          "metadata": {},
          "execution_count": 3
        }
      ]
    },
    {
      "source": [
        "from matplotlib import pyplot as plt\n",
        "train['sentiment'].plot(kind='hist', bins=20, title='sentiment')\n",
        "plt.gca().spines[['top', 'right',]].set_visible(False)"
      ],
      "cell_type": "code",
      "metadata": {
        "id": "ANE_KtzC9Ymu",
        "colab": {
          "base_uri": "https://localhost:8080/",
          "height": 452
        },
        "outputId": "5c7d389b-dd62-4477-dc86-1a7a360a63e4"
      },
      "execution_count": null,
      "outputs": [
        {
          "output_type": "display_data",
          "data": {
            "text/plain": [
              "<Figure size 640x480 with 1 Axes>"
            ],
            "image/png": "[encoded data removed]"
          },
          "metadata": {}
        }
      ]
    },
    {
      "cell_type": "code",
      "source": [
        "import re\n",
        "import nltk\n",
        "nltk.download(\"stopwords\")"
      ],
      "metadata": {
        "id": "Q1aFaZfb9MZ_",
        "colab": {
          "base_uri": "https://localhost:8080/"
        },
        "outputId": "add0c25f-6836-4c5c-96f8-4ebcf7e57183"
      },
      "execution_count": null,
      "outputs": [
        {
          "output_type": "stream",
          "name": "stderr",
          "text": [
            "[nltk_data] Downloading package stopwords to /root/nltk_data...\n",
            "[nltk_data]   Unzipping corpora/stopwords.zip.\n"
          ]
        },
        {
          "output_type": "execute_result",
          "data": {
            "text/plain": [
              "True"
            ]
          },
          "metadata": {},
          "execution_count": 6
        }
      ]
    },
    {
      "cell_type": "code",
      "source": [
        "corpora=train['text']"
      ],
      "metadata": {
        "id": "1oTkz2PyGyLj"
      },
      "execution_count": null,
      "outputs": []
    },
    {
      "cell_type": "markdown",
      "source": [
        "Removing special symbols and normalization"
      ],
      "metadata": {
        "id": "yiUUD40NOwqG"
      }
    },
    {
      "cell_type": "code",
      "source": [
        "corpus=[]\n",
        "for i in range(len(train)):\n",
        "  #print(train['text'][i])\n",
        "  review=re.sub('[^a-zA-Z0-9]',\" \",train['text'][i])\n",
        "  review=review.lower()\n",
        "  corpus.append(review)\n"
      ],
      "metadata": {
        "id": "bi1ld63ZG76V"
      },
      "execution_count": null,
      "outputs": []
    },
    {
      "cell_type": "code",
      "source": [
        "corpus[0]"
      ],
      "metadata": {
        "colab": {
          "base_uri": "https://localhost:8080/",
          "height": 157
        },
        "id": "HCD2aAlvM25L",
        "outputId": "efea6366-c26b-44f3-dd6c-4cbd95ead152"
      },
      "execution_count": null,
      "outputs": [
        {
          "output_type": "execute_result",
          "data": {
            "text/plain": [
              "' her cardboard lover  is norma shearer s last movie  she quit the movies and  i think  joined the board of directors at mgm  that was a good move on her part   her cardboard lover  was talky and boring in parts  it was obvious there were only a handful of actors with speaking parts so they had a lot of dialogue to speak to keep this turkey afloat   br    br   the story was a good idea about a wealthy woman  norma shearer  hiring a man  robert taylor  to make her playboy fiancee  george sanders jealous  i am surprised that the director  george cukor  did not cut many of the talky scenes between ms  shearer and mr  taylor  mr  cukor served ms  shearer well in  the women  but not in this movie   br    br   the best performance in the movie was given by robert taylor  during mr  taylor s career  he was given his best comedy roles in this movie and  when ladies meet  in 1941  in 1942  he gave his best comedy performance in  her cardboard lover  and  up to then  his best dramatic performance in  johnny eager   he had a busy year  i think of all the actors at mgm  mr  taylor worked with all the major and minor actresses on the lot  also  mgm gave mr  taylor all types of movies to make   most of them were successful  that is why mgm kept him for 25 years   br    br   mr  george sanders was very good as a socialite heel  he played a similar role eight years later in  all about eve  for which he won an oscar for a supporting role  as for ms  shearer  this was one of her worst performances  she was not funny and too dramatic for this comedy  it is strange that she made a great comedy in 1939   the women   and gave her best performance  it was obvious that she was too old looking for her younger leading men in  her cardboard lover   also  it didn t help that some of her clothes were awful  br    br   too bad she and mr  taylor did not make another dramatic movie like their last movie together  the superb  escape   the same comments about this movie can be said of another movie   personal property  that mr  taylor made in 1937 with jean harlow  it was too talky  boring  and the actress looked old  ms  harlow looked ill throughout the movie and nobody in hollywood noticed to tell her to see a doctor  so in 1937  she died at age 26  what a waste  she was becoming a good actress and getting better roles '"
            ],
            "application/vnd.google.colaboratory.intrinsic+json": {
              "type": "string"
            }
          },
          "metadata": {},
          "execution_count": 20
        }
      ]
    },
    {
      "cell_type": "markdown",
      "source": [
        "Not Removing stop words as it may remove the context of review by removing negative words"
      ],
      "metadata": {
        "id": "YZ3HPronOnQ1"
      }
    },
    {
      "cell_type": "markdown",
      "source": [
        "Lemmatization"
      ],
      "metadata": {
        "id": "KmizgA2ZO1rI"
      }
    },
    {
      "cell_type": "code",
      "source": [
        "from nltk.stem import WordNetLemmatizer"
      ],
      "metadata": {
        "id": "9eUK3ez-PvRb"
      },
      "execution_count": null,
      "outputs": []
    },
    {
      "cell_type": "code",
      "source": [
        "Lemma=WordNetLemmatizer()"
      ],
      "metadata": {
        "id": "y6rwAl1yQJ13"
      },
      "execution_count": null,
      "outputs": []
    },
    {
      "cell_type": "code",
      "source": [
        "preprocessed_corpus=[]\n",
        "for i in range(len(corpus)):\n",
        "  token=corpus[i].split()\n",
        "  tokens=[Lemma.lemmatize(t) for t in token if len(t)>2]\n",
        "  token=\" \".join(tokens)\n",
        "  preprocessed_corpus.append(token)"
      ],
      "metadata": {
        "id": "tHyT6Ce-OZm_"
      },
      "execution_count": null,
      "outputs": []
    },
    {
      "cell_type": "code",
      "source": [
        "preprocessed_corpus[0]"
      ],
      "metadata": {
        "colab": {
          "base_uri": "https://localhost:8080/",
          "height": 157
        },
        "id": "pX7KXmGYQ74u",
        "outputId": "a34703df-5b5c-4e66-cc36-d918cc1143ed"
      },
      "execution_count": null,
      "outputs": [
        {
          "output_type": "execute_result",
          "data": {
            "text/plain": [
              "'her cardboard lover norma shearer last movie she quit the movie and think joined the board director mgm that wa good move her part her cardboard lover wa talky and boring part wa obvious there were only handful actor with speaking part they had lot dialogue speak keep this turkey afloat the story wa good idea about wealthy woman norma shearer hiring man robert taylor make her playboy fiancee george sander jealous surprised that the director george cukor did not cut many the talky scene between shearer and taylor cukor served shearer well the woman but not this movie the best performance the movie wa given robert taylor during taylor career wa given his best comedy role this movie and when lady meet 1941 1942 gave his best comedy performance her cardboard lover and then his best dramatic performance johnny eager had busy year think all the actor mgm taylor worked with all the major and minor actress the lot also mgm gave taylor all type movie make most them were successful that why mgm kept him for year george sander wa very good socialite heel played similar role eight year later all about eve for which won oscar for supporting role for shearer this wa one her worst performance she wa not funny and too dramatic for this comedy strange that she made great comedy 1939 the woman and gave her best performance wa obvious that she wa too old looking for her younger leading men her cardboard lover also didn help that some her clothes were awful too bad she and taylor did not make another dramatic movie like their last movie together the superb escape the same comment about this movie can said another movie personal property that taylor made 1937 with jean harlow wa too talky boring and the actress looked old harlow looked ill throughout the movie and nobody hollywood noticed tell her see doctor 1937 she died age what waste she wa becoming good actress and getting better role'"
            ],
            "application/vnd.google.colaboratory.intrinsic+json": {
              "type": "string"
            }
          },
          "metadata": {},
          "execution_count": 29
        }
      ]
    },
    {
      "cell_type": "code",
      "source": [
        "train['sentiment'].head()"
      ],
      "metadata": {
        "colab": {
          "base_uri": "https://localhost:8080/"
        },
        "id": "be0OR1XYS3PE",
        "outputId": "803c2d50-736a-470b-ee15-e7fdc153c185"
      },
      "execution_count": null,
      "outputs": [
        {
          "output_type": "execute_result",
          "data": {
            "text/plain": [
              "0    0\n",
              "1    0\n",
              "2    1\n",
              "3    1\n",
              "4    1\n",
              "Name: sentiment, dtype: int64"
            ]
          },
          "metadata": {},
          "execution_count": 32
        }
      ]
    },
    {
      "cell_type": "code",
      "source": [
        "y=train['sentiment'].tolist()"
      ],
      "metadata": {
        "id": "sYgDccosSjdV"
      },
      "execution_count": null,
      "outputs": []
    },
    {
      "cell_type": "markdown",
      "source": [
        "TfIdf"
      ],
      "metadata": {
        "id": "SCohvC10TqVy"
      }
    },
    {
      "cell_type": "code",
      "source": [
        "from sklearn.feature_extraction.text import TfidfVectorizer\n",
        "tfidf=TfidfVectorizer(ngram_range=(1,3),max_features=2500)\n",
        "X=tfidf.fit_transform(preprocessed_corpus)"
      ],
      "metadata": {
        "id": "z5rHj27YTohD"
      },
      "execution_count": null,
      "outputs": []
    },
    {
      "cell_type": "code",
      "source": [
        "X_arr=X.toarray()"
      ],
      "metadata": {
        "id": "-lmQViZWTmZV"
      },
      "execution_count": null,
      "outputs": []
    },
    {
      "cell_type": "code",
      "source": [
        "len(X_arr[0])"
      ],
      "metadata": {
        "colab": {
          "base_uri": "https://localhost:8080/"
        },
        "id": "In1CFOG-VMMQ",
        "outputId": "31f654c5-07a8-4950-84b6-2b9288cf29e9"
      },
      "execution_count": null,
      "outputs": [
        {
          "output_type": "execute_result",
          "data": {
            "text/plain": [
              "2500"
            ]
          },
          "metadata": {},
          "execution_count": 45
        }
      ]
    },
    {
      "cell_type": "markdown",
      "source": [
        "using NaiveBayes for classification"
      ],
      "metadata": {
        "id": "fEatOH0nX71a"
      }
    },
    {
      "cell_type": "code",
      "source": [
        "from sklearn.naive_bayes import MultinomialNB\n",
        "NBModel=MultinomialNB()"
      ],
      "metadata": {
        "id": "KYAiW1LeVvf6"
      },
      "execution_count": null,
      "outputs": []
    },
    {
      "cell_type": "code",
      "source": [
        "NBModel=NBModel.fit(X_arr,y)"
      ],
      "metadata": {
        "id": "XP7bvaUBYVmh"
      },
      "execution_count": null,
      "outputs": []
    },
    {
      "cell_type": "markdown",
      "source": [
        "test_preprocessing"
      ],
      "metadata": {
        "id": "ieleZegxbWu5"
      }
    },
    {
      "cell_type": "code",
      "source": [
        "test.columns"
      ],
      "metadata": {
        "colab": {
          "base_uri": "https://localhost:8080/"
        },
        "id": "7TbXfVSqYetc",
        "outputId": "d430b3c8-38d9-4932-b5ac-75e214285663"
      },
      "execution_count": null,
      "outputs": [
        {
          "output_type": "execute_result",
          "data": {
            "text/plain": [
              "Index(['text', 'sentiment'], dtype='object')"
            ]
          },
          "metadata": {},
          "execution_count": 49
        }
      ]
    },
    {
      "cell_type": "code",
      "source": [
        "y_true=test['sentiment'].values"
      ],
      "metadata": {
        "id": "8Rbm1HDkba9T"
      },
      "execution_count": null,
      "outputs": []
    },
    {
      "cell_type": "code",
      "source": [
        "y_true"
      ],
      "metadata": {
        "colab": {
          "base_uri": "https://localhost:8080/"
        },
        "id": "Z0oxmBzWbg1d",
        "outputId": "64f59e70-3c41-43fe-931b-35090618a330"
      },
      "execution_count": null,
      "outputs": [
        {
          "output_type": "execute_result",
          "data": {
            "text/plain": [
              "array([1, 0, 1, ..., 1, 1, 0])"
            ]
          },
          "metadata": {},
          "execution_count": 64
        }
      ]
    },
    {
      "cell_type": "code",
      "source": [
        "test_text=test['text'].iloc[:].values"
      ],
      "metadata": {
        "id": "kXlXhh98Y9_G"
      },
      "execution_count": null,
      "outputs": []
    },
    {
      "cell_type": "code",
      "source": [
        "test_corpus=[]\n",
        "for i in range(len(test_text)):\n",
        "  review=re.sub('[^a-zA-Z0-9]',\" \",test_text[i])\n",
        "  review=review.lower()\n",
        "  token=review.split()\n",
        "  tokens=[Lemma.lemmatize(t) for t in token if len(t)>2]\n",
        "  token=\" \".join(tokens)\n",
        "  test_corpus.append(token)"
      ],
      "metadata": {
        "id": "SSp9zOwo4Lxy"
      },
      "execution_count": 101,
      "outputs": []
    },
    {
      "cell_type": "code",
      "source": [
        "test_corpus[0]"
      ],
      "metadata": {
        "colab": {
          "base_uri": "https://localhost:8080/",
          "height": 52
        },
        "id": "aWzPqVcIZcFj",
        "outputId": "6691411e-8a83-46bf-d739-81efb62dde8e"
      },
      "execution_count": 102,
      "outputs": [
        {
          "output_type": "execute_result",
          "data": {
            "text/plain": [
              "'this movie take the voice terror and make better holmes protecting inventor switzerland and the trail professor moriarity who ha become nazi this better version holmes wwii world rathbone doe great job with holmes spy and detective see this you liked the voice terror'"
            ],
            "application/vnd.google.colaboratory.intrinsic+json": {
              "type": "string"
            }
          },
          "metadata": {},
          "execution_count": 102
        }
      ]
    },
    {
      "cell_type": "code",
      "source": [
        "test_preprocessing=tfidf.fit_transform(test_corpus)\n",
        "y_text=test_preprocessing.toarray()"
      ],
      "metadata": {
        "id": "rNXQOziUZ-Bh"
      },
      "execution_count": 103,
      "outputs": []
    },
    {
      "cell_type": "code",
      "source": [
        "y_pred=NBModel.predict(y_text)"
      ],
      "metadata": {
        "id": "ghhaBhONYlh6"
      },
      "execution_count": null,
      "outputs": []
    },
    {
      "cell_type": "code",
      "source": [
        "print(\"accuracy score = \",accuracy_score(y_true,y_pred))"
      ],
      "metadata": {
        "colab": {
          "base_uri": "https://localhost:8080/"
        },
        "id": "eQxJ0SFFYvRf",
        "outputId": "7282b540-a55c-4b62-d987-be397435f985"
      },
      "execution_count": 104,
      "outputs": [
        {
          "output_type": "stream",
          "name": "stdout",
          "text": [
            "accuracy score =  0.50332\n"
          ]
        }
      ]
    },
    {
      "cell_type": "code",
      "source": [
        "print(confusion_matrix(y_true,y_pred))"
      ],
      "metadata": {
        "colab": {
          "base_uri": "https://localhost:8080/"
        },
        "id": "vYSSndLsbo7W",
        "outputId": "6f415a20-1339-4136-9be6-039e044437d2"
      },
      "execution_count": null,
      "outputs": [
        {
          "output_type": "stream",
          "name": "stdout",
          "text": [
            "[[6529 5971]\n",
            " [6446 6054]]\n"
          ]
        }
      ]
    },
    {
      "cell_type": "code",
      "source": [
        "print(classification_report(y_true,y_pred))"
      ],
      "metadata": {
        "colab": {
          "base_uri": "https://localhost:8080/"
        },
        "id": "M4tEvMU9bwGj",
        "outputId": "822f2ba0-88fb-4774-9837-a847fb3be6bb"
      },
      "execution_count": 105,
      "outputs": [
        {
          "output_type": "stream",
          "name": "stdout",
          "text": [
            "              precision    recall  f1-score   support\n",
            "\n",
            "           0       0.50      0.52      0.51     12500\n",
            "           1       0.50      0.48      0.49     12500\n",
            "\n",
            "    accuracy                           0.50     25000\n",
            "   macro avg       0.50      0.50      0.50     25000\n",
            "weighted avg       0.50      0.50      0.50     25000\n",
            "\n"
          ]
        }
      ]
    },
    {
      "cell_type": "code",
      "source": [
        "from sklearn.ensemble import RandomForestClassifier"
      ],
      "metadata": {
        "id": "fJC1dnTAKO89"
      },
      "execution_count": null,
      "outputs": []
    },
    {
      "cell_type": "code",
      "source": [
        "RF_model = RandomForestClassifier(n_estimators=1000,max_depth=None)\n",
        "RF_model.fit(X_arr,y)\n",
        "y_train_pred=RF_model.predict(X_arr)\n",
        "y_test_pred = RF_model.predict(y_text)\n",
        "accTrain = accuracy_score(y, y_train_pred)\n",
        "\n",
        "accTest = accuracy_score(y_true, y_test_pred)\n",
        "print(\"Final accuracy on train data:\",accTrain)\n",
        "print(\"Final accuracy on test data:\",accTest)\n",
        "\n",
        "print(\"\\nConfusion Matrix on Test Data:\")\n",
        "print(confusion_matrix(y_true, y_test_pred))"
      ],
      "metadata": {
        "colab": {
          "base_uri": "https://localhost:8080/"
        },
        "id": "085vA9JlKK6O",
        "outputId": "abb3c648-e662-47a4-abc4-0e2de5a3fad7"
      },
      "execution_count": 111,
      "outputs": [
        {
          "output_type": "stream",
          "name": "stdout",
          "text": [
            "Final accuracy on train data: 1.0\n",
            "Final accuracy on test data: 0.56756\n",
            "\n",
            "Confusion Matrix on Test Data:\n",
            "[[4530 7970]\n",
            " [2841 9659]]\n"
          ]
        }
      ]
    },
    {
      "cell_type": "code",
      "source": [
        "print(classification_report(y_true,y_test_pred))"
      ],
      "metadata": {
        "colab": {
          "base_uri": "https://localhost:8080/"
        },
        "id": "iLJIvg1hM8YG",
        "outputId": "7f6c5b0b-c412-4682-c090-b8d401d8b758"
      },
      "execution_count": 115,
      "outputs": [
        {
          "output_type": "stream",
          "name": "stdout",
          "text": [
            "              precision    recall  f1-score   support\n",
            "\n",
            "           0       0.61      0.36      0.46     12500\n",
            "           1       0.55      0.77      0.64     12500\n",
            "\n",
            "    accuracy                           0.57     25000\n",
            "   macro avg       0.58      0.57      0.55     25000\n",
            "weighted avg       0.58      0.57      0.55     25000\n",
            "\n"
          ]
        }
      ]
    },
    {
      "cell_type": "markdown",
      "source": [
        "Lets try word2Vec to imporve classification report"
      ],
      "metadata": {
        "id": "kgIQ7gjlcNIC"
      }
    },
    {
      "cell_type": "code",
      "source": [
        "import gensim"
      ],
      "metadata": {
        "id": "y-69bs1-cGPK"
      },
      "execution_count": null,
      "outputs": []
    },
    {
      "cell_type": "markdown",
      "source": [],
      "metadata": {
        "id": "yM3Q88kzhAP6"
      }
    },
    {
      "cell_type": "code",
      "source": [
        "def clean_reviews(review):\n",
        "\n",
        "    # 1. Removing html tags\n",
        "    review_text = BeautifulSoup(review,\"lxml\").get_text()\n",
        "\n",
        "    # 2. Retaining only alphabets and numbers.\n",
        "    review_text = re.sub(\"[^a-zA-Z0-9]\",\" \",review_text)\n",
        "\n",
        "    # 3. Converting to lower case and splitting\n",
        "    word_tokens= review_text.lower().split()\n",
        "\n",
        "    # 4. Remove stopwords\n",
        "    le=WordNetLemmatizer()\n",
        "    word_tokens= [le.lemmatize(w) for w in word_tokens]\n",
        "\n",
        "    cleaned_review=\" \".join(word_tokens)\n",
        "    return cleaned_review"
      ],
      "metadata": {
        "id": "Xd40r3WMhBIU"
      },
      "execution_count": null,
      "outputs": []
    },
    {
      "cell_type": "code",
      "source": [
        "nltk.download('punkt')"
      ],
      "metadata": {
        "colab": {
          "base_uri": "https://localhost:8080/"
        },
        "id": "dw6T2n29hTWi",
        "outputId": "501492c9-c696-4c4f-c952-eb6c88576e52"
      },
      "execution_count": null,
      "outputs": [
        {
          "output_type": "stream",
          "name": "stderr",
          "text": [
            "[nltk_data] Downloading package punkt to /root/nltk_data...\n",
            "[nltk_data]   Unzipping tokenizers/punkt.zip.\n"
          ]
        },
        {
          "output_type": "execute_result",
          "data": {
            "text/plain": [
              "True"
            ]
          },
          "metadata": {},
          "execution_count": 73
        }
      ]
    },
    {
      "cell_type": "code",
      "source": [
        "tokenizer = nltk.data.load('tokenizers/punkt/english.pickle')\n",
        "sentences=[]\n",
        "sum=0\n",
        "for review in preprocessed_corpus:\n",
        "    sents=tokenizer.tokenize(review.strip())\n",
        "    sum+=len(sents)\n",
        "    for sent in sents:\n",
        "        cleaned_sent=clean_reviews(sent)\n",
        "        sentences.append(cleaned_sent.split()) # can use word_tokenize also.\n",
        "print(sum)\n",
        "print(len(sentences))"
      ],
      "metadata": {
        "colab": {
          "base_uri": "https://localhost:8080/"
        },
        "id": "1TjIDjBbdoYt",
        "outputId": "b3fd1846-778b-4543-f4df-ab898692ffbc"
      },
      "execution_count": null,
      "outputs": [
        {
          "output_type": "stream",
          "name": "stdout",
          "text": [
            "25000\n",
            "25000\n"
          ]
        }
      ]
    },
    {
      "cell_type": "code",
      "source": [
        "w2vModel=gensim.models.Word2Vec(sentences=sentences,vector_size=300,window=5,min_count=1)"
      ],
      "metadata": {
        "id": "24rr1T4xiIqJ"
      },
      "execution_count": null,
      "outputs": []
    },
    {
      "cell_type": "code",
      "source": [
        "vocab=list(w2vModel.wv.index_to_key)"
      ],
      "metadata": {
        "id": "qxDKFf6yi-DF"
      },
      "execution_count": null,
      "outputs": []
    },
    {
      "cell_type": "markdown",
      "source": [
        "now we have vector embeddings of length 300 for each word, use it to create embeddings for sentences."
      ],
      "metadata": {
        "id": "CgN2Wty8q44w"
      }
    },
    {
      "cell_type": "code",
      "source": [
        "from tqdm import tqdm\n",
        "import numpy as np"
      ],
      "metadata": {
        "id": "cRTVMbg-rUIe"
      },
      "execution_count": null,
      "outputs": []
    },
    {
      "cell_type": "code",
      "source": [
        "list_sent_vec=[]\n",
        "for sent in tqdm(sentences):\n",
        "  sent_vec=np.zeros(300)\n",
        "  cnt_words=0\n",
        "  for word in sent:\n",
        "    if word in vocab:\n",
        "      word_vec=w2vModel.wv[word]\n",
        "      sent_vec+=word_vec\n",
        "      cnt_words+=1\n",
        "  if cnt_words!=0:\n",
        "    sent_vec/=cnt_words\n",
        "  list_sent_vec.append(sent_vec)\n"
      ],
      "metadata": {
        "colab": {
          "base_uri": "https://localhost:8080/"
        },
        "id": "3UQGsKkLoiiE",
        "outputId": "df4a9a70-ce84-45d7-d379-3e09775f8f2b"
      },
      "execution_count": null,
      "outputs": [
        {
          "output_type": "stream",
          "name": "stderr",
          "text": [
            "100%|██████████| 25000/25000 [11:17<00:00, 36.92it/s]\n"
          ]
        }
      ]
    },
    {
      "cell_type": "code",
      "source": [
        "from sklearn.preprocessing import StandardScaler\n",
        "Scaler=StandardScaler()\n",
        "train_vec=Scaler.fit_transform(list_sent_vec)"
      ],
      "metadata": {
        "id": "L142ZThUtMd6"
      },
      "execution_count": null,
      "outputs": []
    },
    {
      "cell_type": "code",
      "source": [
        "train_vec[0]"
      ],
      "metadata": {
        "id": "30VeO6owxVyh"
      },
      "execution_count": null,
      "outputs": []
    },
    {
      "cell_type": "code",
      "source": [
        "len(train_vec)"
      ],
      "metadata": {
        "id": "zrxVReOkxX9v",
        "colab": {
          "base_uri": "https://localhost:8080/"
        },
        "outputId": "e58763a0-06dd-4240-df0e-404029e062bc"
      },
      "execution_count": 96,
      "outputs": [
        {
          "output_type": "execute_result",
          "data": {
            "text/plain": [
              "25000"
            ]
          },
          "metadata": {},
          "execution_count": 96
        }
      ]
    },
    {
      "cell_type": "markdown",
      "source": [
        "performing word2vec for test data"
      ],
      "metadata": {
        "id": "tf2ri8Ok1ul5"
      }
    },
    {
      "cell_type": "code",
      "source": [
        "test.shape"
      ],
      "metadata": {
        "colab": {
          "base_uri": "https://localhost:8080/"
        },
        "id": "9ypcbz0N3ont",
        "outputId": "7aff4485-0004-4753-d681-4f0868a493bf"
      },
      "execution_count": 100,
      "outputs": [
        {
          "output_type": "execute_result",
          "data": {
            "text/plain": [
              "(25000, 2)"
            ]
          },
          "metadata": {},
          "execution_count": 100
        }
      ]
    },
    {
      "cell_type": "code",
      "source": [
        "sentences=[]\n",
        "sum=0\n",
        "for review in test_corpus:\n",
        "    sents=tokenizer.tokenize(review.strip())\n",
        "    sum+=len(sents)\n",
        "    for sent in sents:\n",
        "        cleaned_sent=clean_reviews(sent)\n",
        "        sentences.append(cleaned_sent.split()) # can use word_tokenize also.\n",
        "print(sum)\n",
        "print(len(sentences))\n"
      ],
      "metadata": {
        "colab": {
          "base_uri": "https://localhost:8080/",
          "height": 104
        },
        "id": "mGnFfsj51uIx",
        "outputId": "fa74cb65-caa5-4408-a14b-2fb3c453ef3f"
      },
      "execution_count": 106,
      "outputs": [
        {
          "output_type": "stream",
          "name": "stdout",
          "text": [
            "25000\n",
            "25000\n"
          ]
        },
        {
          "output_type": "execute_result",
          "data": {
            "text/plain": [
              "'list_sent_vec=[]\\nfor sent in tqdm(sentences):\\n  sent_vec=np.zeros(300)\\n  cnt_words=0\\n  for word in sent:\\n    if word in vocab:\\n      word_vec=w2vModel.wv[word]\\n      sent_vec+=word_vec\\n      cnt_words+=1\\n  if cnt_words!=0:\\n    sent_vec/=cnt_words\\n  list_sent_vec.append(sent_vec)\\n\\ntest_vec=Scaler.transform(list_sent_vec)'"
            ],
            "application/vnd.google.colaboratory.intrinsic+json": {
              "type": "string"
            }
          },
          "metadata": {},
          "execution_count": 106
        }
      ]
    },
    {
      "cell_type": "code",
      "source": [
        "list_sent_vec=[]\n",
        "for sent in tqdm(sentences):\n",
        "  sent_vec=np.zeros(300)\n",
        "  cnt_words=0\n",
        "  for word in sent:\n",
        "    if word in vocab:\n",
        "      word_vec=w2vModel.wv[word]\n",
        "      sent_vec+=word_vec\n",
        "      cnt_words+=1\n",
        "  if cnt_words!=0:\n",
        "    sent_vec/=cnt_words\n",
        "  list_sent_vec.append(sent_vec)\n",
        "\n",
        "test_vec=Scaler.transform(list_sent_vec)"
      ],
      "metadata": {
        "colab": {
          "base_uri": "https://localhost:8080/"
        },
        "id": "IWSORwn_59nB",
        "outputId": "d7c84948-f16b-498e-de70-59aa1c115df6"
      },
      "execution_count": 107,
      "outputs": [
        {
          "output_type": "stream",
          "name": "stderr",
          "text": [
            "100%|██████████| 25000/25000 [15:36<00:00, 26.69it/s]\n"
          ]
        }
      ]
    },
    {
      "cell_type": "markdown",
      "source": [
        "Modelling"
      ],
      "metadata": {
        "id": "_qOiwp490daF"
      }
    },
    {
      "cell_type": "markdown",
      "source": [
        "Not using Naive Bayes as it doesn't support negative values in train data"
      ],
      "metadata": {
        "id": "Q1edcSrTKAtp"
      }
    },
    {
      "cell_type": "code",
      "source": [
        "from sklearn.ensemble import RandomForestClassifier"
      ],
      "metadata": {
        "id": "8v-B2piW0QeS"
      },
      "execution_count": 109,
      "outputs": []
    },
    {
      "cell_type": "code",
      "source": [
        "RF_model = RandomForestClassifier(n_estimators=1000,max_depth=None)\n",
        "RF_model.fit(train_vec,y)\n",
        "wv_y_train_pred=RF_model.predict(train_vec)\n",
        "wv_y_test_pred = RF_model.predict(test_vec)\n",
        "wv_accTrain = accuracy_score(y, wv_y_train_pred)\n",
        "\n",
        "wv_accTest = accuracy_score(y_true, wv_y_test_pred)\n",
        "print(\"Final accuracy on train data:\",wv_accTrain)\n",
        "print(\"Final accuracy on test data:\",wv_accTest)\n",
        "\n",
        "print(\"\\nConfusion Matrix on Test Data:\")\n",
        "print(confusion_matrix(y_true, wv_y_test_pred))"
      ],
      "metadata": {
        "colab": {
          "base_uri": "https://localhost:8080/"
        },
        "id": "i_N25dGY02jb",
        "outputId": "21d25544-247b-445d-c100-5126ebb82c4e"
      },
      "execution_count": 116,
      "outputs": [
        {
          "output_type": "stream",
          "name": "stdout",
          "text": [
            "Final accuracy on train data: 1.0\n",
            "Final accuracy on test data: 0.8174\n",
            "\n",
            "Confusion Matrix on Test Data:\n",
            "[[10136  2364]\n",
            " [ 2201 10299]]\n"
          ]
        }
      ]
    },
    {
      "cell_type": "code",
      "source": [
        "print(classification_report(y_true,wv_y_test_pred))"
      ],
      "metadata": {
        "colab": {
          "base_uri": "https://localhost:8080/"
        },
        "id": "_aCiloXm_aRp",
        "outputId": "1285e503-797b-43fe-d9f8-e25ad540b86d"
      },
      "execution_count": 118,
      "outputs": [
        {
          "output_type": "stream",
          "name": "stdout",
          "text": [
            "              precision    recall  f1-score   support\n",
            "\n",
            "           0       0.82      0.81      0.82     12500\n",
            "           1       0.81      0.82      0.82     12500\n",
            "\n",
            "    accuracy                           0.82     25000\n",
            "   macro avg       0.82      0.82      0.82     25000\n",
            "weighted avg       0.82      0.82      0.82     25000\n",
            "\n"
          ]
        }
      ]
    },
    {
      "cell_type": "markdown",
      "source": [
        "The accuracy of prediction has increased considerably with Word2Vector embedding"
      ],
      "metadata": {
        "id": "VKB17sPiQNUg"
      }
    },
    {
      "cell_type": "code",
      "source": [],
      "metadata": {
        "id": "F4YAUjZONASb"
      },
      "execution_count": null,
      "outputs": []
    }
  ]
}